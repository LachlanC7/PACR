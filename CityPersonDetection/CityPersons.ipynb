{
 "cells": [
  {
   "cell_type": "code",
   "execution_count": 7,
   "id": "a1d66817-0c6c-449c-947e-e0ea43b1869e",
   "metadata": {
    "execution": {
     "iopub.execute_input": "2022-06-30T11:27:14.371289Z",
     "iopub.status.busy": "2022-06-30T11:27:14.371077Z",
     "iopub.status.idle": "2022-06-30T11:27:16.472929Z",
     "shell.execute_reply": "2022-06-30T11:27:16.471879Z",
     "shell.execute_reply.started": "2022-06-30T11:27:14.371269Z"
    },
    "scrolled": true,
    "tags": []
   },
   "outputs": [
    {
     "name": "stdout",
     "output_type": "stream",
     "text": [
      "Looking in indexes: https://pypi.tuna.tsinghua.edu.cn/simple\n",
      "Requirement already satisfied: pycocotools in /opt/conda/envs/python35-paddle120-env/lib/python3.7/site-packages (2.0.4)\n",
      "Requirement already satisfied: numpy in /opt/conda/envs/python35-paddle120-env/lib/python3.7/site-packages (from pycocotools) (1.19.5)\n",
      "Requirement already satisfied: matplotlib>=2.1.0 in /opt/conda/envs/python35-paddle120-env/lib/python3.7/site-packages (from pycocotools) (2.2.3)\n",
      "Requirement already satisfied: pytz in /opt/conda/envs/python35-paddle120-env/lib/python3.7/site-packages (from matplotlib>=2.1.0->pycocotools) (2019.3)\n",
      "Requirement already satisfied: six>=1.10 in /opt/conda/envs/python35-paddle120-env/lib/python3.7/site-packages (from matplotlib>=2.1.0->pycocotools) (1.16.0)\n",
      "Requirement already satisfied: pyparsing!=2.0.4,!=2.1.2,!=2.1.6,>=2.0.1 in /opt/conda/envs/python35-paddle120-env/lib/python3.7/site-packages (from matplotlib>=2.1.0->pycocotools) (3.0.9)\n",
      "Requirement already satisfied: kiwisolver>=1.0.1 in /opt/conda/envs/python35-paddle120-env/lib/python3.7/site-packages (from matplotlib>=2.1.0->pycocotools) (1.1.0)\n",
      "Requirement already satisfied: python-dateutil>=2.1 in /opt/conda/envs/python35-paddle120-env/lib/python3.7/site-packages (from matplotlib>=2.1.0->pycocotools) (2.8.2)\n",
      "Requirement already satisfied: cycler>=0.10 in /opt/conda/envs/python35-paddle120-env/lib/python3.7/site-packages (from matplotlib>=2.1.0->pycocotools) (0.10.0)\n",
      "Requirement already satisfied: setuptools in /opt/conda/envs/python35-paddle120-env/lib/python3.7/site-packages (from kiwisolver>=1.0.1->matplotlib>=2.1.0->pycocotools) (56.2.0)\n"
     ]
    }
   ],
   "source": [
    "!pip install pycocotools"
   ]
  },
  {
   "cell_type": "code",
   "execution_count": null,
   "id": "bff29d0d",
   "metadata": {},
   "outputs": [],
   "source": [
    "!pip install paddlepaddle"
   ]
  },
  {
   "cell_type": "code",
   "execution_count": null,
   "id": "8c8c5641-11b1-476a-a189-8637a5d4d329",
   "metadata": {
    "scrolled": true,
    "tags": []
   },
   "outputs": [],
   "source": [
    "!pip install -r test.txt"
   ]
  },
  {
   "cell_type": "code",
   "execution_count": 5,
   "id": "a7d34c09-403c-468e-b080-ee2a144e6c5c",
   "metadata": {
    "execution": {
     "iopub.execute_input": "2022-06-01T10:59:39.064167Z",
     "iopub.status.busy": "2022-06-01T10:59:39.063428Z",
     "iopub.status.idle": "2022-06-01T11:00:09.555778Z",
     "shell.execute_reply": "2022-06-01T11:00:09.555069Z",
     "shell.execute_reply.started": "2022-06-01T10:59:39.064132Z"
    },
    "scrolled": true,
    "tags": []
   },
   "outputs": [
    {
     "name": "stdout",
     "output_type": "stream",
     "text": [
      "正克隆到 'PaddleDetection'...\n",
      "remote: Enumerating objects: 25252, done.\u001b[K\n",
      "remote: Counting objects: 100% (5722/5722), done.\u001b[K\n",
      "remote: Compressing objects: 100% (2478/2478), done.\u001b[K\n",
      "remote: Total 25252 (delta 4223), reused 4441 (delta 3233), pack-reused 19530\u001b[K\n",
      "接收对象中: 100% (25252/25252), 266.33 MiB | 37.09 MiB/s, 完成.\n",
      "处理 delta 中: 100% (18772/18772), 完成.\n",
      "检查连接... 完成。\n"
     ]
    }
   ],
   "source": [
    "!git clone https://gitee.com/paddlepaddle/PaddleDetection"
   ]
  },
  {
   "cell_type": "code",
   "execution_count": 9,
   "id": "939f2e06-2470-4a0e-83b1-323ef5788751",
   "metadata": {
    "execution": {
     "iopub.execute_input": "2022-06-30T11:27:17.306161Z",
     "iopub.status.busy": "2022-06-30T11:27:17.305749Z",
     "iopub.status.idle": "2022-06-30T11:27:17.311248Z",
     "shell.execute_reply": "2022-06-30T11:27:17.310589Z",
     "shell.execute_reply.started": "2022-06-30T11:27:17.306133Z"
    },
    "scrolled": true,
    "tags": []
   },
   "outputs": [
    {
     "name": "stdout",
     "output_type": "stream",
     "text": [
      "[Errno 2] No such file or directory: 'PaddleDetection/'\n",
      "/home/aistudio/PaddleDetection\n"
     ]
    }
   ],
   "source": [
    "%cd PaddleDetection/"
   ]
  },
  {
   "cell_type": "code",
   "execution_count": 10,
   "id": "b3779d42-415d-4090-a56f-911fdcf2e6da",
   "metadata": {
    "execution": {
     "iopub.execute_input": "2022-06-30T11:27:17.312468Z",
     "iopub.status.busy": "2022-06-30T11:27:17.312160Z",
     "iopub.status.idle": "2022-06-30T11:27:17.316824Z",
     "shell.execute_reply": "2022-06-30T11:27:17.316216Z",
     "shell.execute_reply.started": "2022-06-30T11:27:17.312444Z"
    },
    "scrolled": true,
    "tags": []
   },
   "outputs": [
    {
     "name": "stdout",
     "output_type": "stream",
     "text": [
      "env: PYTHONPATH=/home/aistudio/PaddleDetection\n"
     ]
    }
   ],
   "source": [
    "%env PYTHONPATH=#Your file location"
   ]
  },
  {
   "cell_type": "code",
   "execution_count": 11,
   "id": "087949e9-3a01-410d-9d7b-69cd91ed932b",
   "metadata": {
    "execution": {
     "iopub.execute_input": "2022-06-30T11:27:17.318005Z",
     "iopub.status.busy": "2022-06-30T11:27:17.317705Z",
     "iopub.status.idle": "2022-06-30T11:27:26.184448Z",
     "shell.execute_reply": "2022-06-30T11:27:26.183256Z",
     "shell.execute_reply.started": "2022-06-30T11:27:17.317984Z"
    },
    "scrolled": true,
    "tags": []
   },
   "outputs": [
    {
     "name": "stdout",
     "output_type": "stream",
     "text": [
      "W0630 19:27:21.732628  4108 gpu_context.cc:278] Please NOTE: device: 0, GPU Compute Capability: 7.0, Driver API Version: 11.2, Runtime API Version: 10.1\n",
      "W0630 19:27:21.738391  4108 gpu_context.cc:306] device: 0, cuDNN Version: 7.6.\n",
      ".......\n",
      "----------------------------------------------------------------------\n",
      "Ran 7 tests in 3.093s\n",
      "\n",
      "OK\n"
     ]
    }
   ],
   "source": [
    "#Test project environment\n",
    "!export PYTHONPATH=`pwd`:$PYTHONPATH\n",
    "!python ppdet/modeling/tests/test_architectures.py"
   ]
  },
  {
   "cell_type": "code",
   "execution_count": 8,
   "id": "b014c5f0-7809-4f01-8a07-15795b493927",
   "metadata": {
    "execution": {
     "iopub.execute_input": "2022-06-29T08:35:13.085064Z",
     "iopub.status.busy": "2022-06-29T08:35:13.083964Z",
     "iopub.status.idle": "2022-06-29T10:12:33.100903Z",
     "shell.execute_reply": "2022-06-29T10:12:33.099843Z",
     "shell.execute_reply.started": "2022-06-29T08:35:13.085024Z"
    },
    "scrolled": true,
    "tags": []
   },
   "outputs": [
    {
     "name": "stdout",
     "output_type": "stream",
     "text": [
      "W0629 16:35:18.515970  1922 gpu_context.cc:278] Please NOTE: device: 0, GPU Compute Capability: 7.0, Driver API Version: 11.2, Runtime API Version: 10.1\n",
      "W0629 16:35:18.521732  1922 gpu_context.cc:306] device: 0, cuDNN Version: 7.6.\n",
      "[06/29 16:35:25] ppdet.utils.checkpoint INFO: Finish resuming model weights: output/ssd_mobilenet_v1_300_120e_voc/99.pdparams\n",
      "[06/29 16:35:41] ppdet.engine INFO: Epoch: [100] [ 0/96] learning_rate: 0.000100 loss: 5.697145 eta: 8:31:59 batch_cost: 15.9995 data_cost: 14.4972 ips: 2.0001 images/s\n",
      "[06/29 16:36:33] ppdet.engine INFO: Epoch: [100] [20/96] learning_rate: 0.000100 loss: 6.292488 eta: 1:41:46 batch_cost: 2.5744 data_cost: 2.3198 ips: 12.4299 images/s\n",
      "[06/29 16:37:38] ppdet.engine INFO: Epoch: [100] [40/96] learning_rate: 0.000100 loss: 6.360902 eta: 1:41:13 batch_cost: 3.2488 data_cost: 2.9955 ips: 9.8499 images/s\n",
      "[06/29 16:38:26] ppdet.engine INFO: Epoch: [100] [60/96] learning_rate: 0.000100 loss: 6.472812 eta: 1:31:51 batch_cost: 2.4142 data_cost: 2.1570 ips: 13.2552 images/s\n",
      "[06/29 16:39:32] ppdet.engine INFO: Epoch: [100] [80/96] learning_rate: 0.000100 loss: 6.455187 eta: 1:33:08 batch_cost: 3.2639 data_cost: 3.0112 ips: 9.8041 images/s\n",
      "[06/29 16:39:51] ppdet.utils.checkpoint INFO: Save checkpoint: output/ssd_mobilenet_v1_300_120e_voc\n",
      "[06/29 16:39:54] ppdet.engine INFO: Eval iter: 0\n",
      "[06/29 16:40:04] ppdet.engine INFO: Eval iter: 100\n",
      "[06/29 16:40:13] ppdet.metrics.metrics INFO: Accumulating evaluatation results...\n",
      "[06/29 16:40:13] ppdet.metrics.metrics INFO: mAP(0.50, 11point) = 4.64%\n",
      "[06/29 16:40:13] ppdet.engine INFO: Total sample number: 169, averge FPS: 8.71448262282654\n",
      "[06/29 16:40:13] ppdet.engine INFO: Best test bbox ap is 0.046.\n",
      "[06/29 16:40:15] ppdet.utils.checkpoint INFO: Save checkpoint: output/ssd_mobilenet_v1_300_120e_voc\n",
      "[06/29 16:40:22] ppdet.engine INFO: Epoch: [101] [ 0/96] learning_rate: 0.000100 loss: 6.305138 eta: 1:25:07 batch_cost: 2.0790 data_cost: 1.8841 ips: 15.3920 images/s\n",
      "[06/29 16:41:16] ppdet.engine INFO: Epoch: [101] [20/96] learning_rate: 0.000100 loss: 6.383007 eta: 1:23:40 batch_cost: 2.6986 data_cost: 2.3912 ips: 11.8580 images/s\n",
      "[06/29 16:42:27] ppdet.engine INFO: Epoch: [101] [40/96] learning_rate: 0.000100 loss: 6.380660 eta: 1:26:05 batch_cost: 3.5541 data_cost: 3.3045 ips: 9.0037 images/s\n",
      "[06/29 16:43:09] ppdet.engine INFO: Epoch: [101] [60/96] learning_rate: 0.000100 loss: 6.316305 eta: 1:22:17 batch_cost: 2.1367 data_cost: 1.8930 ips: 14.9766 images/s\n",
      "[06/29 16:44:22] ppdet.engine INFO: Epoch: [101] [80/96] learning_rate: 0.000100 loss: 6.277611 eta: 1:24:05 batch_cost: 3.6341 data_cost: 3.3264 ips: 8.8054 images/s\n",
      "[06/29 16:44:40] ppdet.utils.checkpoint INFO: Save checkpoint: output/ssd_mobilenet_v1_300_120e_voc\n",
      "[06/29 16:44:40] ppdet.engine INFO: Eval iter: 0\n",
      "[06/29 16:44:51] ppdet.engine INFO: Eval iter: 100\n",
      "[06/29 16:45:03] ppdet.metrics.metrics INFO: Accumulating evaluatation results...\n",
      "[06/29 16:45:03] ppdet.metrics.metrics INFO: mAP(0.50, 11point) = 4.00%\n",
      "[06/29 16:45:03] ppdet.engine INFO: Total sample number: 169, averge FPS: 7.415077321119019\n",
      "[06/29 16:45:03] ppdet.engine INFO: Best test bbox ap is 0.046.\n",
      "[06/29 16:45:20] ppdet.engine INFO: Epoch: [102] [ 0/96] learning_rate: 0.000100 loss: 6.543927 eta: 1:21:19 batch_cost: 2.7868 data_cost: 2.5736 ips: 11.4828 images/s\n",
      "[06/29 16:46:11] ppdet.engine INFO: Epoch: [102] [20/96] learning_rate: 0.000100 loss: 6.437701 eta: 1:19:38 batch_cost: 2.5476 data_cost: 2.2874 ips: 12.5607 images/s\n",
      "[06/29 16:47:19] ppdet.engine INFO: Epoch: [102] [40/96] learning_rate: 0.000100 loss: 6.768104 eta: 1:20:11 batch_cost: 3.4149 data_cost: 3.1367 ips: 9.3708 images/s\n",
      "[06/29 16:48:15] ppdet.engine INFO: Epoch: [102] [60/96] learning_rate: 0.000100 loss: 6.346289 eta: 1:19:05 batch_cost: 2.7780 data_cost: 2.4839 ips: 11.5190 images/s\n",
      "[06/29 16:49:24] ppdet.engine INFO: Epoch: [102] [80/96] learning_rate: 0.000100 loss: 6.649446 eta: 1:19:26 batch_cost: 3.4901 data_cost: 3.1554 ips: 9.1688 images/s\n",
      "[06/29 16:49:39] ppdet.utils.checkpoint INFO: Save checkpoint: output/ssd_mobilenet_v1_300_120e_voc\n",
      "[06/29 16:49:39] ppdet.engine INFO: Eval iter: 0\n",
      "[06/29 16:49:49] ppdet.engine INFO: Eval iter: 100\n",
      "[06/29 16:49:58] ppdet.metrics.metrics INFO: Accumulating evaluatation results...\n",
      "[06/29 16:49:59] ppdet.metrics.metrics INFO: mAP(0.50, 11point) = 4.05%\n",
      "[06/29 16:49:59] ppdet.engine INFO: Total sample number: 169, averge FPS: 8.620703558989229\n",
      "[06/29 16:49:59] ppdet.engine INFO: Best test bbox ap is 0.046.\n",
      "[06/29 16:50:13] ppdet.engine INFO: Epoch: [103] [ 0/96] learning_rate: 0.000100 loss: 6.396594 eta: 1:16:48 batch_cost: 2.6454 data_cost: 2.2924 ips: 12.0966 images/s\n",
      "[06/29 16:51:09] ppdet.engine INFO: Epoch: [103] [20/96] learning_rate: 0.000100 loss: 6.263455 eta: 1:15:52 batch_cost: 2.8284 data_cost: 2.5855 ips: 11.3136 images/s\n",
      "[06/29 16:52:07] ppdet.engine INFO: Epoch: [103] [40/96] learning_rate: 0.000100 loss: 6.224269 eta: 1:15:02 batch_cost: 2.8881 data_cost: 2.6114 ips: 11.0799 images/s\n",
      "[06/29 16:53:10] ppdet.engine INFO: Epoch: [103] [60/96] learning_rate: 0.000100 loss: 6.273944 eta: 1:14:33 batch_cost: 3.1406 data_cost: 2.8524 ips: 10.1891 images/s\n",
      "[06/29 16:54:15] ppdet.engine INFO: Epoch: [103] [80/96] learning_rate: 0.000100 loss: 6.656446 eta: 1:14:11 batch_cost: 3.2536 data_cost: 2.9654 ips: 9.8353 images/s\n",
      "[06/29 16:54:34] ppdet.utils.checkpoint INFO: Save checkpoint: output/ssd_mobilenet_v1_300_120e_voc\n",
      "[06/29 16:54:34] ppdet.engine INFO: Eval iter: 0\n",
      "[06/29 16:54:46] ppdet.engine INFO: Eval iter: 100\n",
      "[06/29 16:54:54] ppdet.metrics.metrics INFO: Accumulating evaluatation results...\n",
      "[06/29 16:54:55] ppdet.metrics.metrics INFO: mAP(0.50, 11point) = 3.98%\n",
      "[06/29 16:54:55] ppdet.engine INFO: Total sample number: 169, averge FPS: 8.32028301743944\n",
      "[06/29 16:54:55] ppdet.engine INFO: Best test bbox ap is 0.046.\n",
      "[06/29 16:55:05] ppdet.engine INFO: Epoch: [104] [ 0/96] learning_rate: 0.000100 loss: 6.278735 eta: 1:12:10 batch_cost: 2.4706 data_cost: 2.2348 ips: 12.9521 images/s\n",
      "[06/29 16:55:59] ppdet.engine INFO: Epoch: [104] [20/96] learning_rate: 0.000100 loss: 6.608269 eta: 1:11:05 batch_cost: 2.6962 data_cost: 2.3949 ips: 11.8684 images/s\n",
      "[06/29 16:57:16] ppdet.engine INFO: Epoch: [104] [40/96] learning_rate: 0.000100 loss: 6.251524 eta: 1:11:22 batch_cost: 3.8546 data_cost: 3.5914 ips: 8.3018 images/s\n",
      "[06/29 16:57:59] ppdet.engine INFO: Epoch: [104] [60/96] learning_rate: 0.000100 loss: 6.603817 eta: 1:09:38 batch_cost: 2.1678 data_cost: 1.9255 ips: 14.7618 images/s\n",
      "[06/29 16:59:11] ppdet.engine INFO: Epoch: [104] [80/96] learning_rate: 0.000100 loss: 6.371009 eta: 1:09:31 batch_cost: 3.6189 data_cost: 3.3690 ips: 8.8425 images/s\n",
      "[06/29 16:59:33] ppdet.utils.checkpoint INFO: Save checkpoint: output/ssd_mobilenet_v1_300_120e_voc\n",
      "[06/29 16:59:33] ppdet.engine INFO: Eval iter: 0\n",
      "[06/29 16:59:47] ppdet.engine INFO: Eval iter: 100\n",
      "[06/29 16:59:56] ppdet.metrics.metrics INFO: Accumulating evaluatation results...\n",
      "[06/29 16:59:57] ppdet.metrics.metrics INFO: mAP(0.50, 11point) = 4.78%\n",
      "[06/29 16:59:57] ppdet.engine INFO: Total sample number: 169, averge FPS: 7.38770463946734\n",
      "[06/29 16:59:57] ppdet.engine INFO: Best test bbox ap is 0.048.\n",
      "[06/29 16:59:58] ppdet.utils.checkpoint INFO: Save checkpoint: output/ssd_mobilenet_v1_300_120e_voc\n",
      "[06/29 17:00:03] ppdet.engine INFO: Epoch: [105] [ 0/96] learning_rate: 0.000100 loss: 6.393679 eta: 1:07:44 batch_cost: 2.2833 data_cost: 2.1170 ips: 14.0150 images/s\n",
      "[06/29 17:00:57] ppdet.engine INFO: Epoch: [105] [20/96] learning_rate: 0.000100 loss: 6.317443 eta: 1:06:39 batch_cost: 2.6779 data_cost: 2.3401 ips: 11.9498 images/s\n",
      "[06/29 17:01:49] ppdet.engine INFO: Epoch: [105] [40/96] learning_rate: 0.000100 loss: 6.352457 eta: 1:05:32 batch_cost: 2.6144 data_cost: 2.3596 ips: 12.2400 images/s\n",
      "[06/29 17:03:00] ppdet.engine INFO: Epoch: [105] [60/96] learning_rate: 0.000100 loss: 6.339511 eta: 1:05:12 batch_cost: 3.5150 data_cost: 3.2053 ips: 9.1038 images/s\n",
      "[06/29 17:03:45] ppdet.engine INFO: Epoch: [105] [80/96] learning_rate: 0.000100 loss: 6.184761 eta: 1:03:48 batch_cost: 2.2738 data_cost: 1.9980 ips: 14.0736 images/s\n",
      "[06/29 17:04:24] ppdet.utils.checkpoint INFO: Save checkpoint: output/ssd_mobilenet_v1_300_120e_voc\n",
      "[06/29 17:04:24] ppdet.engine INFO: Eval iter: 0\n",
      "[06/29 17:04:35] ppdet.engine INFO: Eval iter: 100\n",
      "[06/29 17:04:44] ppdet.metrics.metrics INFO: Accumulating evaluatation results...\n",
      "[06/29 17:04:44] ppdet.metrics.metrics INFO: mAP(0.50, 11point) = 4.01%\n",
      "[06/29 17:04:44] ppdet.engine INFO: Total sample number: 169, averge FPS: 8.291221374277955\n",
      "[06/29 17:04:44] ppdet.engine INFO: Best test bbox ap is 0.048.\n",
      "[06/29 17:04:57] ppdet.engine INFO: Epoch: [106] [ 0/96] learning_rate: 0.000100 loss: 6.382814 eta: 1:03:14 batch_cost: 2.5265 data_cost: 2.3065 ips: 12.6659 images/s\n",
      "[06/29 17:05:47] ppdet.engine INFO: Epoch: [106] [20/96] learning_rate: 0.000100 loss: 6.403767 eta: 1:02:03 batch_cost: 2.4991 data_cost: 2.2046 ips: 12.8045 images/s\n",
      "[06/29 17:06:58] ppdet.engine INFO: Epoch: [106] [40/96] learning_rate: 0.000100 loss: 6.389309 eta: 1:01:39 batch_cost: 3.5703 data_cost: 3.3034 ips: 8.9627 images/s\n",
      "[06/29 17:07:49] ppdet.engine INFO: Epoch: [106] [60/96] learning_rate: 0.000100 loss: 6.313355 eta: 1:00:29 batch_cost: 2.5153 data_cost: 2.2220 ips: 12.7223 images/s\n",
      "[06/29 17:08:51] ppdet.engine INFO: Epoch: [106] [80/96] learning_rate: 0.000100 loss: 6.259377 eta: 0:59:43 batch_cost: 3.1158 data_cost: 2.8555 ips: 10.2703 images/s\n",
      "[06/29 17:09:15] ppdet.utils.checkpoint INFO: Save checkpoint: output/ssd_mobilenet_v1_300_120e_voc\n",
      "[06/29 17:09:15] ppdet.engine INFO: Eval iter: 0\n",
      "[06/29 17:09:25] ppdet.engine INFO: Eval iter: 100\n",
      "[06/29 17:09:34] ppdet.metrics.metrics INFO: Accumulating evaluatation results...\n",
      "[06/29 17:09:34] ppdet.metrics.metrics INFO: mAP(0.50, 11point) = 4.77%\n",
      "[06/29 17:09:34] ppdet.engine INFO: Total sample number: 169, averge FPS: 9.126931266848217\n",
      "[06/29 17:09:34] ppdet.engine INFO: Best test bbox ap is 0.048.\n",
      "[06/29 17:09:47] ppdet.engine INFO: Epoch: [107] [ 0/96] learning_rate: 0.000100 loss: 6.244687 eta: 0:58:39 batch_cost: 2.8966 data_cost: 2.6678 ips: 11.0473 images/s\n",
      "[06/29 17:10:37] ppdet.engine INFO: Epoch: [107] [20/96] learning_rate: 0.000100 loss: 6.365952 eta: 0:57:32 batch_cost: 2.5288 data_cost: 2.1972 ips: 12.6543 images/s\n",
      "[06/29 17:11:35] ppdet.engine INFO: Epoch: [107] [40/96] learning_rate: 0.000100 loss: 6.311413 eta: 0:56:38 batch_cost: 2.8841 data_cost: 2.5940 ips: 11.0953 images/s\n",
      "[06/29 17:12:41] ppdet.engine INFO: Epoch: [107] [60/96] learning_rate: 0.000100 loss: 6.599899 eta: 0:55:58 batch_cost: 3.2949 data_cost: 3.0312 ips: 9.7120 images/s\n",
      "[06/29 17:13:30] ppdet.engine INFO: Epoch: [107] [80/96] learning_rate: 0.000100 loss: 6.601995 eta: 0:54:50 batch_cost: 2.4676 data_cost: 2.1900 ips: 12.9681 images/s\n",
      "[06/29 17:14:07] ppdet.utils.checkpoint INFO: Save checkpoint: output/ssd_mobilenet_v1_300_120e_voc\n",
      "[06/29 17:14:07] ppdet.engine INFO: Eval iter: 0\n",
      "[06/29 17:14:19] ppdet.engine INFO: Eval iter: 100\n",
      "[06/29 17:14:29] ppdet.metrics.metrics INFO: Accumulating evaluatation results...\n",
      "[06/29 17:14:30] ppdet.metrics.metrics INFO: mAP(0.50, 11point) = 4.07%\n",
      "[06/29 17:14:30] ppdet.engine INFO: Total sample number: 169, averge FPS: 7.712643534460701\n",
      "[06/29 17:14:30] ppdet.engine INFO: Best test bbox ap is 0.048.\n",
      "[06/29 17:14:37] ppdet.engine INFO: Epoch: [108] [ 0/96] learning_rate: 0.000100 loss: 6.463148 eta: 0:54:00 batch_cost: 2.2496 data_cost: 2.0302 ips: 14.2249 images/s\n",
      "[06/29 17:15:35] ppdet.engine INFO: Epoch: [108] [20/96] learning_rate: 0.000100 loss: 6.369750 eta: 0:53:06 batch_cost: 2.8988 data_cost: 2.6034 ips: 11.0392 images/s\n",
      "[06/29 17:16:30] ppdet.engine INFO: Epoch: [108] [40/96] learning_rate: 0.000100 loss: 6.194178 eta: 0:52:09 batch_cost: 2.7899 data_cost: 2.5385 ips: 11.4699 images/s\n",
      "[06/29 17:17:33] ppdet.engine INFO: Epoch: [108] [60/96] learning_rate: 0.000100 loss: 6.407557 eta: 0:51:22 batch_cost: 3.1444 data_cost: 2.8574 ips: 10.1767 images/s\n",
      "[06/29 17:18:35] ppdet.engine INFO: Epoch: [108] [80/96] learning_rate: 0.000100 loss: 6.276529 eta: 0:50:32 batch_cost: 3.0785 data_cost: 2.8357 ips: 10.3946 images/s\n",
      "[06/29 17:18:56] ppdet.utils.checkpoint INFO: Save checkpoint: output/ssd_mobilenet_v1_300_120e_voc\n",
      "[06/29 17:18:57] ppdet.engine INFO: Eval iter: 0\n",
      "[06/29 17:19:08] ppdet.engine INFO: Eval iter: 100\n",
      "[06/29 17:19:18] ppdet.metrics.metrics INFO: Accumulating evaluatation results...\n",
      "[06/29 17:19:19] ppdet.metrics.metrics INFO: mAP(0.50, 11point) = 4.02%\n",
      "[06/29 17:19:19] ppdet.engine INFO: Total sample number: 169, averge FPS: 7.78255399523649\n",
      "[06/29 17:19:19] ppdet.engine INFO: Best test bbox ap is 0.048.\n",
      "[06/29 17:19:26] ppdet.engine INFO: Epoch: [109] [ 0/96] learning_rate: 0.000100 loss: 6.255194 eta: 0:49:24 batch_cost: 1.9239 data_cost: 1.7382 ips: 16.6331 images/s\n",
      "[06/29 17:20:17] ppdet.engine INFO: Epoch: [109] [20/96] learning_rate: 0.000100 loss: 6.243993 eta: 0:48:22 batch_cost: 2.5434 data_cost: 2.2457 ips: 12.5816 images/s\n",
      "[06/29 17:21:19] ppdet.engine INFO: Epoch: [109] [40/96] learning_rate: 0.000100 loss: 6.429106 eta: 0:47:33 batch_cost: 3.0993 data_cost: 2.8250 ips: 10.3248 images/s\n",
      "[06/29 17:22:14] ppdet.engine INFO: Epoch: [109] [60/96] learning_rate: 0.000100 loss: 6.269201 eta: 0:46:36 batch_cost: 2.7663 data_cost: 2.4808 ips: 11.5676 images/s\n",
      "[06/29 17:23:19] ppdet.engine INFO: Epoch: [109] [80/96] learning_rate: 0.000100 loss: 6.488546 eta: 0:45:48 batch_cost: 3.2341 data_cost: 2.9606 ips: 9.8944 images/s\n",
      "[06/29 17:23:46] ppdet.utils.checkpoint INFO: Save checkpoint: output/ssd_mobilenet_v1_300_120e_voc\n",
      "[06/29 17:23:46] ppdet.engine INFO: Eval iter: 0\n",
      "[06/29 17:23:57] ppdet.engine INFO: Eval iter: 100\n",
      "[06/29 17:24:06] ppdet.metrics.metrics INFO: Accumulating evaluatation results...\n",
      "[06/29 17:24:07] ppdet.metrics.metrics INFO: mAP(0.50, 11point) = 3.97%\n",
      "[06/29 17:24:07] ppdet.engine INFO: Total sample number: 169, averge FPS: 8.368689429742021\n",
      "[06/29 17:24:07] ppdet.engine INFO: Best test bbox ap is 0.048.\n",
      "[06/29 17:24:15] ppdet.engine INFO: Epoch: [110] [ 0/96] learning_rate: 0.000100 loss: 6.817314 eta: 0:44:51 batch_cost: 2.4744 data_cost: 2.2237 ips: 12.9325 images/s\n",
      "[06/29 17:25:11] ppdet.engine INFO: Epoch: [110] [20/96] learning_rate: 0.000100 loss: 6.658261 eta: 0:43:56 batch_cost: 2.8389 data_cost: 2.5727 ips: 11.2718 images/s\n",
      "[06/29 17:26:20] ppdet.engine INFO: Epoch: [110] [40/96] learning_rate: 0.000100 loss: 6.690394 eta: 0:43:11 batch_cost: 3.4198 data_cost: 3.1434 ips: 9.3572 images/s\n",
      "[06/29 17:27:09] ppdet.engine INFO: Epoch: [110] [60/96] learning_rate: 0.000100 loss: 6.324374 eta: 0:42:09 batch_cost: 2.4613 data_cost: 2.2056 ips: 13.0010 images/s\n",
      "[06/29 17:28:16] ppdet.engine INFO: Epoch: [110] [80/96] learning_rate: 0.000100 loss: 6.437606 eta: 0:41:21 batch_cost: 3.3391 data_cost: 3.0692 ips: 9.5834 images/s\n",
      "[06/29 17:28:37] ppdet.utils.checkpoint INFO: Save checkpoint: output/ssd_mobilenet_v1_300_120e_voc\n",
      "[06/29 17:28:37] ppdet.engine INFO: Eval iter: 0\n",
      "[06/29 17:28:49] ppdet.engine INFO: Eval iter: 100\n",
      "[06/29 17:28:58] ppdet.metrics.metrics INFO: Accumulating evaluatation results...\n",
      "[06/29 17:28:58] ppdet.metrics.metrics INFO: mAP(0.50, 11point) = 4.01%\n",
      "[06/29 17:28:58] ppdet.engine INFO: Total sample number: 169, averge FPS: 8.056551554715961\n",
      "[06/29 17:28:58] ppdet.engine INFO: Best test bbox ap is 0.048.\n",
      "[06/29 17:29:09] ppdet.engine INFO: Epoch: [111] [ 0/96] learning_rate: 0.000100 loss: 6.538942 eta: 0:40:23 batch_cost: 2.6420 data_cost: 2.4447 ips: 12.1118 images/s\n",
      "[06/29 17:29:58] ppdet.engine INFO: Epoch: [111] [20/96] learning_rate: 0.000100 loss: 6.475334 eta: 0:39:22 batch_cost: 2.4803 data_cost: 2.1793 ips: 12.9018 images/s\n",
      "[06/29 17:30:57] ppdet.engine INFO: Epoch: [111] [40/96] learning_rate: 0.000100 loss: 6.425151 eta: 0:38:28 batch_cost: 2.9182 data_cost: 2.6677 ips: 10.9658 images/s\n",
      "[06/29 17:32:03] ppdet.engine INFO: Epoch: [111] [60/96] learning_rate: 0.000100 loss: 6.405796 eta: 0:37:39 batch_cost: 3.3139 data_cost: 3.0377 ips: 9.6563 images/s\n",
      "[06/29 17:32:58] ppdet.engine INFO: Epoch: [111] [80/96] learning_rate: 0.000100 loss: 6.331789 eta: 0:36:42 batch_cost: 2.7629 data_cost: 2.4994 ips: 11.5821 images/s\n",
      "[06/29 17:33:31] ppdet.utils.checkpoint INFO: Save checkpoint: output/ssd_mobilenet_v1_300_120e_voc\n",
      "[06/29 17:33:31] ppdet.engine INFO: Eval iter: 0\n",
      "[06/29 17:33:41] ppdet.engine INFO: Eval iter: 100\n",
      "[06/29 17:33:51] ppdet.metrics.metrics INFO: Accumulating evaluatation results...\n",
      "[06/29 17:33:52] ppdet.metrics.metrics INFO: mAP(0.50, 11point) = 4.75%\n",
      "[06/29 17:33:52] ppdet.engine INFO: Total sample number: 169, averge FPS: 8.281598476864417\n",
      "[06/29 17:33:52] ppdet.engine INFO: Best test bbox ap is 0.048.\n",
      "[06/29 17:34:01] ppdet.engine INFO: Epoch: [112] [ 0/96] learning_rate: 0.000100 loss: 6.513945 eta: 0:35:54 batch_cost: 2.1964 data_cost: 2.0104 ips: 14.5690 images/s\n",
      "[06/29 17:34:56] ppdet.engine INFO: Epoch: [112] [20/96] learning_rate: 0.000100 loss: 6.324234 eta: 0:34:57 batch_cost: 2.7352 data_cost: 2.4599 ips: 11.6992 images/s\n",
      "[06/29 17:35:49] ppdet.engine INFO: Epoch: [112] [40/96] learning_rate: 0.000100 loss: 6.479766 eta: 0:33:59 batch_cost: 2.6438 data_cost: 2.3642 ips: 12.1036 images/s\n",
      "[06/29 17:36:58] ppdet.engine INFO: Epoch: [112] [60/96] learning_rate: 0.000100 loss: 6.457113 eta: 0:33:11 batch_cost: 3.4809 data_cost: 3.2251 ips: 9.1930 images/s\n",
      "[06/29 17:37:50] ppdet.engine INFO: Epoch: [112] [80/96] learning_rate: 0.000100 loss: 6.590942 eta: 0:32:13 batch_cost: 2.6032 data_cost: 2.3442 ips: 12.2924 images/s\n",
      "[06/29 17:38:22] ppdet.utils.checkpoint INFO: Save checkpoint: output/ssd_mobilenet_v1_300_120e_voc\n",
      "[06/29 17:38:22] ppdet.engine INFO: Eval iter: 0\n",
      "[06/29 17:38:34] ppdet.engine INFO: Eval iter: 100\n",
      "[06/29 17:38:44] ppdet.metrics.metrics INFO: Accumulating evaluatation results...\n",
      "[06/29 17:38:44] ppdet.metrics.metrics INFO: mAP(0.50, 11point) = 3.96%\n",
      "[06/29 17:38:44] ppdet.engine INFO: Total sample number: 169, averge FPS: 7.90782144045421\n",
      "[06/29 17:38:44] ppdet.engine INFO: Best test bbox ap is 0.048.\n",
      "[06/29 17:38:59] ppdet.engine INFO: Epoch: [113] [ 0/96] learning_rate: 0.000100 loss: 6.497511 eta: 0:31:27 batch_cost: 2.2888 data_cost: 2.0818 ips: 13.9809 images/s\n",
      "[06/29 17:39:47] ppdet.engine INFO: Epoch: [113] [20/96] learning_rate: 0.000100 loss: 6.170282 eta: 0:30:27 batch_cost: 2.3987 data_cost: 2.1439 ips: 13.3404 images/s\n",
      "[06/29 17:40:48] ppdet.engine INFO: Epoch: [113] [40/96] learning_rate: 0.000100 loss: 6.405851 eta: 0:29:33 batch_cost: 3.0438 data_cost: 2.7879 ips: 10.5133 images/s\n",
      "[06/29 17:41:50] ppdet.engine INFO: Epoch: [113] [60/96] learning_rate: 0.000100 loss: 6.405506 eta: 0:28:40 batch_cost: 3.0988 data_cost: 2.8341 ips: 10.3265 images/s\n",
      "[06/29 17:42:46] ppdet.engine INFO: Epoch: [113] [80/96] learning_rate: 0.000100 loss: 6.217840 eta: 0:27:44 batch_cost: 2.8342 data_cost: 2.5672 ips: 11.2908 images/s\n",
      "[06/29 17:43:16] ppdet.utils.checkpoint INFO: Save checkpoint: output/ssd_mobilenet_v1_300_120e_voc\n",
      "[06/29 17:43:16] ppdet.engine INFO: Eval iter: 0\n",
      "[06/29 17:43:26] ppdet.engine INFO: Eval iter: 100\n",
      "[06/29 17:43:36] ppdet.metrics.metrics INFO: Accumulating evaluatation results...\n",
      "[06/29 17:43:36] ppdet.metrics.metrics INFO: mAP(0.50, 11point) = 4.84%\n",
      "[06/29 17:43:36] ppdet.engine INFO: Total sample number: 169, averge FPS: 8.58028195392157\n",
      "[06/29 17:43:36] ppdet.engine INFO: Best test bbox ap is 0.048.\n",
      "[06/29 17:43:38] ppdet.utils.checkpoint INFO: Save checkpoint: output/ssd_mobilenet_v1_300_120e_voc\n",
      "[06/29 17:43:44] ppdet.engine INFO: Epoch: [114] [ 0/96] learning_rate: 0.000100 loss: 6.181627 eta: 0:26:54 batch_cost: 2.2499 data_cost: 2.0532 ips: 14.2226 images/s\n",
      "[06/29 17:44:40] ppdet.engine INFO: Epoch: [114] [20/96] learning_rate: 0.000100 loss: 6.340567 eta: 0:25:58 batch_cost: 2.7963 data_cost: 2.4826 ips: 11.4436 images/s\n",
      "[06/29 17:45:50] ppdet.engine INFO: Epoch: [114] [40/96] learning_rate: 0.000100 loss: 6.389945 eta: 0:25:08 batch_cost: 3.5059 data_cost: 3.2546 ips: 9.1275 images/s\n",
      "[06/29 17:46:38] ppdet.engine INFO: Epoch: [114] [60/96] learning_rate: 0.000100 loss: 6.390046 eta: 0:24:08 batch_cost: 2.4055 data_cost: 2.1270 ips: 13.3028 images/s\n",
      "[06/29 17:47:37] ppdet.engine INFO: Epoch: [114] [80/96] learning_rate: 0.000100 loss: 6.242957 eta: 0:23:13 batch_cost: 2.9277 data_cost: 2.6702 ips: 10.9300 images/s\n",
      "[06/29 17:48:02] ppdet.utils.checkpoint INFO: Save checkpoint: output/ssd_mobilenet_v1_300_120e_voc\n",
      "[06/29 17:48:02] ppdet.engine INFO: Eval iter: 0\n",
      "[06/29 17:48:14] ppdet.engine INFO: Eval iter: 100\n",
      "[06/29 17:48:24] ppdet.metrics.metrics INFO: Accumulating evaluatation results...\n",
      "[06/29 17:48:25] ppdet.metrics.metrics INFO: mAP(0.50, 11point) = 4.85%\n",
      "[06/29 17:48:25] ppdet.engine INFO: Total sample number: 169, averge FPS: 7.716463064785947\n",
      "[06/29 17:48:25] ppdet.engine INFO: Best test bbox ap is 0.048.\n",
      "[06/29 17:48:26] ppdet.utils.checkpoint INFO: Save checkpoint: output/ssd_mobilenet_v1_300_120e_voc\n",
      "[06/29 17:48:37] ppdet.engine INFO: Epoch: [115] [ 0/96] learning_rate: 0.000100 loss: 6.363473 eta: 0:22:24 batch_cost: 2.2411 data_cost: 1.9886 ips: 14.2786 images/s\n",
      "[06/29 17:49:25] ppdet.engine INFO: Epoch: [115] [20/96] learning_rate: 0.000100 loss: 6.247175 eta: 0:21:26 batch_cost: 2.4245 data_cost: 2.1395 ips: 13.1983 images/s\n",
      "[06/29 17:50:34] ppdet.engine INFO: Epoch: [115] [40/96] learning_rate: 0.000100 loss: 6.364089 eta: 0:20:34 batch_cost: 3.4496 data_cost: 3.2072 ips: 9.2765 images/s\n",
      "[06/29 17:51:23] ppdet.engine INFO: Epoch: [115] [60/96] learning_rate: 0.000100 loss: 6.374213 eta: 0:19:36 batch_cost: 2.4382 data_cost: 2.1344 ips: 13.1245 images/s\n",
      "[06/29 17:52:22] ppdet.engine INFO: Epoch: [115] [80/96] learning_rate: 0.000100 loss: 6.370949 eta: 0:18:41 batch_cost: 2.9695 data_cost: 2.6714 ips: 10.7762 images/s\n",
      "[06/29 17:52:50] ppdet.utils.checkpoint INFO: Save checkpoint: output/ssd_mobilenet_v1_300_120e_voc\n",
      "[06/29 17:52:50] ppdet.engine INFO: Eval iter: 0\n",
      "[06/29 17:53:02] ppdet.engine INFO: Eval iter: 100\n",
      "[06/29 17:53:11] ppdet.metrics.metrics INFO: Accumulating evaluatation results...\n",
      "[06/29 17:53:12] ppdet.metrics.metrics INFO: mAP(0.50, 11point) = 4.73%\n",
      "[06/29 17:53:12] ppdet.engine INFO: Total sample number: 169, averge FPS: 8.081349727666717\n",
      "[06/29 17:53:12] ppdet.engine INFO: Best test bbox ap is 0.048.\n",
      "[06/29 17:53:25] ppdet.engine INFO: Epoch: [116] [ 0/96] learning_rate: 0.000100 loss: 6.454834 eta: 0:17:54 batch_cost: 2.5272 data_cost: 2.3387 ips: 12.6624 images/s\n",
      "[06/29 17:54:11] ppdet.engine INFO: Epoch: [116] [20/96] learning_rate: 0.000100 loss: 6.389061 eta: 0:16:56 batch_cost: 2.3351 data_cost: 2.0647 ips: 13.7036 images/s\n",
      "[06/29 17:55:14] ppdet.engine INFO: Epoch: [116] [40/96] learning_rate: 0.000100 loss: 6.445858 eta: 0:16:02 batch_cost: 3.1435 data_cost: 2.8625 ips: 10.1798 images/s\n",
      "[06/29 17:56:19] ppdet.engine INFO: Epoch: [116] [60/96] learning_rate: 0.000100 loss: 6.551778 eta: 0:15:08 batch_cost: 3.2489 data_cost: 2.9885 ips: 9.8496 images/s\n",
      "[06/29 17:57:07] ppdet.engine INFO: Epoch: [116] [80/96] learning_rate: 0.000100 loss: 6.499464 eta: 0:14:10 batch_cost: 2.3982 data_cost: 2.0639 ips: 13.3431 images/s\n",
      "[06/29 17:57:42] ppdet.utils.checkpoint INFO: Save checkpoint: output/ssd_mobilenet_v1_300_120e_voc\n",
      "[06/29 17:57:42] ppdet.engine INFO: Eval iter: 0\n",
      "[06/29 17:57:53] ppdet.engine INFO: Eval iter: 100\n",
      "[06/29 17:58:02] ppdet.metrics.metrics INFO: Accumulating evaluatation results...\n",
      "[06/29 17:58:02] ppdet.metrics.metrics INFO: mAP(0.50, 11point) = 4.07%\n",
      "[06/29 17:58:02] ppdet.engine INFO: Total sample number: 169, averge FPS: 8.706711571178252\n",
      "[06/29 17:58:02] ppdet.engine INFO: Best test bbox ap is 0.048.\n",
      "[06/29 17:58:14] ppdet.engine INFO: Epoch: [117] [ 0/96] learning_rate: 0.000100 loss: 6.415312 eta: 0:13:25 batch_cost: 2.3544 data_cost: 2.1319 ips: 13.5918 images/s\n",
      "[06/29 17:59:07] ppdet.engine INFO: Epoch: [117] [20/96] learning_rate: 0.000100 loss: 6.410393 eta: 0:12:29 batch_cost: 2.6387 data_cost: 2.3013 ips: 12.1273 images/s\n",
      "[06/29 18:00:19] ppdet.engine INFO: Epoch: [117] [40/96] learning_rate: 0.000100 loss: 6.344892 eta: 0:11:35 batch_cost: 3.5845 data_cost: 3.2871 ips: 8.9272 images/s\n",
      "[06/29 18:01:07] ppdet.engine INFO: Epoch: [117] [60/96] learning_rate: 0.000100 loss: 6.434092 eta: 0:10:38 batch_cost: 2.3903 data_cost: 2.1171 ips: 13.3872 images/s\n",
      "[06/29 18:02:20] ppdet.engine INFO: Epoch: [117] [80/96] learning_rate: 0.000100 loss: 6.425507 eta: 0:09:44 batch_cost: 3.6749 data_cost: 3.3962 ips: 8.7077 images/s\n",
      "[06/29 18:02:32] ppdet.utils.checkpoint INFO: Save checkpoint: output/ssd_mobilenet_v1_300_120e_voc\n",
      "[06/29 18:02:32] ppdet.engine INFO: Eval iter: 0\n",
      "[06/29 18:02:44] ppdet.engine INFO: Eval iter: 100\n",
      "[06/29 18:02:54] ppdet.metrics.metrics INFO: Accumulating evaluatation results...\n",
      "[06/29 18:02:54] ppdet.metrics.metrics INFO: mAP(0.50, 11point) = 4.04%\n",
      "[06/29 18:02:54] ppdet.engine INFO: Total sample number: 169, averge FPS: 7.935506363732295\n",
      "[06/29 18:02:54] ppdet.engine INFO: Best test bbox ap is 0.048.\n",
      "[06/29 18:02:59] ppdet.engine INFO: Epoch: [118] [ 0/96] learning_rate: 0.000100 loss: 6.254305 eta: 0:08:56 batch_cost: 1.9638 data_cost: 1.7925 ips: 16.2950 images/s\n",
      "[06/29 18:04:00] ppdet.engine INFO: Epoch: [118] [20/96] learning_rate: 0.000100 loss: 6.686351 eta: 0:08:01 batch_cost: 3.0599 data_cost: 2.7790 ips: 10.4578 images/s\n",
      "[06/29 18:04:56] ppdet.engine INFO: Epoch: [118] [40/96] learning_rate: 0.000100 loss: 6.439364 eta: 0:07:05 batch_cost: 2.7538 data_cost: 2.5058 ips: 11.6201 images/s\n",
      "[06/29 18:05:55] ppdet.engine INFO: Epoch: [118] [60/96] learning_rate: 0.000100 loss: 6.184822 eta: 0:06:09 batch_cost: 2.9837 data_cost: 2.7260 ips: 10.7249 images/s\n",
      "[06/29 18:06:53] ppdet.engine INFO: Epoch: [118] [80/96] learning_rate: 0.000100 loss: 6.338917 eta: 0:05:13 batch_cost: 2.9087 data_cost: 2.6281 ips: 11.0016 images/s\n",
      "[06/29 18:07:21] ppdet.utils.checkpoint INFO: Save checkpoint: output/ssd_mobilenet_v1_300_120e_voc\n",
      "[06/29 18:07:21] ppdet.engine INFO: Eval iter: 0\n",
      "[06/29 18:07:34] ppdet.engine INFO: Eval iter: 100\n",
      "[06/29 18:07:44] ppdet.metrics.metrics INFO: Accumulating evaluatation results...\n",
      "[06/29 18:07:44] ppdet.metrics.metrics INFO: mAP(0.50, 11point) = 4.02%\n",
      "[06/29 18:07:44] ppdet.engine INFO: Total sample number: 169, averge FPS: 7.541800614434954\n",
      "[06/29 18:07:44] ppdet.engine INFO: Best test bbox ap is 0.048.\n",
      "[06/29 18:07:53] ppdet.engine INFO: Epoch: [119] [ 0/96] learning_rate: 0.000100 loss: 6.252442 eta: 0:04:28 batch_cost: 2.4499 data_cost: 2.2549 ips: 13.0616 images/s\n",
      "[06/29 18:08:46] ppdet.engine INFO: Epoch: [119] [20/96] learning_rate: 0.000100 loss: 6.294050 eta: 0:03:32 batch_cost: 2.6246 data_cost: 2.3557 ips: 12.1922 images/s\n",
      "[06/29 18:09:43] ppdet.engine INFO: Epoch: [119] [40/96] learning_rate: 0.000100 loss: 6.503755 eta: 0:02:36 batch_cost: 2.8791 data_cost: 2.6142 ips: 11.1147 images/s\n",
      "[06/29 18:10:43] ppdet.engine INFO: Epoch: [119] [60/96] learning_rate: 0.000100 loss: 6.275526 eta: 0:01:40 batch_cost: 3.0045 data_cost: 2.7299 ips: 10.6506 images/s\n",
      "[06/29 18:11:44] ppdet.engine INFO: Epoch: [119] [80/96] learning_rate: 0.000100 loss: 6.367702 eta: 0:00:44 batch_cost: 3.0138 data_cost: 2.7311 ips: 10.6179 images/s\n",
      "[06/29 18:12:10] ppdet.utils.checkpoint INFO: Save checkpoint: output/ssd_mobilenet_v1_300_120e_voc\n",
      "[06/29 18:12:11] ppdet.engine INFO: Eval iter: 0\n",
      "[06/29 18:12:21] ppdet.engine INFO: Eval iter: 100\n",
      "[06/29 18:12:30] ppdet.metrics.metrics INFO: Accumulating evaluatation results...\n",
      "[06/29 18:12:31] ppdet.metrics.metrics INFO: mAP(0.50, 11point) = 4.01%\n",
      "[06/29 18:12:31] ppdet.engine INFO: Total sample number: 169, averge FPS: 8.654618082551057\n",
      "[06/29 18:12:31] ppdet.engine INFO: Best test bbox ap is 0.048.\n"
     ]
    }
   ],
   "source": [
    "!python tools/train.py -c configs/ssd/ssd_mobilenet_v1_300_120e_voc.yml -o use_gpu=true --eval -r output/ssd_mobilenet_v1_300_120e_voc/99 --use_vdl=true --vdl_log_dir=vdl_dir/scalar"
   ]
  },
  {
   "cell_type": "code",
   "execution_count": null,
   "id": "de1b8222-ae22-40e6-a0a9-87383298e712",
   "metadata": {
    "execution": {
     "iopub.execute_input": "2022-06-30T11:27:26.194230Z",
     "iopub.status.busy": "2022-06-30T11:27:26.193899Z"
    },
    "scrolled": true
   },
   "outputs": [
    {
     "name": "stdout",
     "output_type": "stream",
     "text": [
      "W0630 19:27:31.610400  4199 gpu_context.cc:278] Please NOTE: device: 0, GPU Compute Capability: 7.0, Driver API Version: 11.2, Runtime API Version: 10.1\n",
      "W0630 19:27:31.615912  4199 gpu_context.cc:306] device: 0, cuDNN Version: 7.6.\n",
      "[06/30 19:27:34] ppdet.utils.checkpoint INFO: Finish resuming model weights: output/yolov3_darknet53_270e_voc/19.pdparams\n",
      "[06/30 19:27:35] ppdet.engine INFO: Epoch: [20] [  0/387] learning_rate: 0.001000 loss_xy: 10.817233 loss_wh: 5.400424 loss_obj: 20.184635 loss_cls: 4.578106 loss: 40.980396 eta: 10:14:14 batch_cost: 0.3809 data_cost: 0.0004 ips: 21.0017 images/s\n",
      "[06/30 19:28:08] ppdet.engine INFO: Epoch: [20] [ 20/387] learning_rate: 0.001000 loss_xy: 12.165520 loss_wh: 5.808056 loss_obj: 20.333847 loss_cls: 5.370634 loss: 42.876556 eta: 1 day, 18:04:49 batch_cost: 1.6254 data_cost: 1.4230 ips: 4.9220 images/s\n"
     ]
    }
   ],
   "source": [
    "!python tools/train.py -c configs/yolov3/yolov3_darknet53_270e_voc.yml -o use_gpu=true --eval -r output/yolov3_darknet53_270e_voc/19 --use_vdl=true --vdl_log_dir=vdl_dir/scalar"
   ]
  },
  {
   "cell_type": "code",
   "execution_count": null,
   "id": "13a60b69",
   "metadata": {},
   "outputs": [],
   "source": [
    "!python deploy/python/infer.py --model_dir=Inference_model/ssdlite_mobilenet_v3_small_320_coco --use_gpu=False --image_file="
   ]
  }
 ],
 "metadata": {
  "kernelspec": {
   "display_name": "Python 3",
   "language": "python",
   "name": "py35-paddle1.2.0"
  },
  "language_info": {
   "codemirror_mode": {
    "name": "ipython",
    "version": 3
   },
   "file_extension": ".py",
   "mimetype": "text/x-python",
   "name": "python",
   "nbconvert_exporter": "python",
   "pygments_lexer": "ipython3",
   "version": "3.7.4"
  }
 },
 "nbformat": 4,
 "nbformat_minor": 5
}
